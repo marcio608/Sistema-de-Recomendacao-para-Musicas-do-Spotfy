{
 "cells": [
  {
   "cell_type": "code",
   "execution_count": 1,
   "id": "9d873d68",
   "metadata": {},
   "outputs": [
    {
     "name": "stdout",
     "output_type": "stream",
     "text": [
      "A versão usada neste projeto foi 3.9.12\n"
     ]
    }
   ],
   "source": [
    "from platform import python_version\n",
    "print('A versão usada neste projeto foi', python_version())"
   ]
  },
  {
   "cell_type": "code",
   "execution_count": 3,
   "id": "6db745b7",
   "metadata": {},
   "outputs": [],
   "source": [
    "import findspark\n",
    "findspark.init()"
   ]
  },
  {
   "cell_type": "code",
   "execution_count": 4,
   "id": "f37b75a5",
   "metadata": {},
   "outputs": [],
   "source": [
    "# Imports\n",
    "import os\n",
    "import time\n",
    "import random\n",
    "import pyspark\n",
    "from pyspark.sql import SparkSession\n",
    "from pyspark.sql.functions import *\n",
    "from pyspark.ml.feature import Normalizer, StandardScaler"
   ]
  },
  {
   "cell_type": "markdown",
   "id": "4e491f7a",
   "metadata": {},
   "source": [
    "### Etapa 1: Conexão entre o Spark e  streaming de dados no Kafka"
   ]
  },
  {
   "cell_type": "code",
   "execution_count": 5,
   "id": "02895707",
   "metadata": {},
   "outputs": [],
   "source": [
    "# Endereço do servidor Kafka\n",
    "SERVER = 'localhost:9092'"
   ]
  },
  {
   "cell_type": "code",
   "execution_count": 6,
   "id": "fa8d1c08",
   "metadata": {},
   "outputs": [],
   "source": [
    "# Nome do tópico\n",
    "TOPIC = 'projspotfy'"
   ]
  },
  {
   "cell_type": "markdown",
   "id": "2ffb9d78",
   "metadata": {},
   "source": [
    "Precisamos agora concetar o Spark no Kafka, para isso precisamos de alguns conectores. Esses conectores estão disponíveis através de arquivos .jar\n",
    "\n",
    "https://mvnrepository.com/artifact/org.apache.spark/spark-sql-kafka-0-10_2.12/3.2.1\n",
    "\n",
    "https://mvnrepository.com/artifact/org.apache.kafka/kafka-clients/2.1.1\n",
    "\n",
    "https://mvnrepository.com/artifact/org.apache.spark/spark-token-provider-kafka-0-10_2.13/3.3.2\n",
    "\n",
    "https://mvnrepository.com/artifact/org.apache.commons/commons-pool2/2.8.0\n",
    "\n",
    "https://mvnrepository.com/artifact/org.apache.spark/spark-token-provider-kafka-0-10_2.12/3.1.2"
   ]
  },
  {
   "cell_type": "code",
   "execution_count": 12,
   "id": "6e4be2b2",
   "metadata": {},
   "outputs": [],
   "source": [
    "# Conectores do Spark para o Apache Kafka\n",
    "\n",
    "spark_jars =  (\"{},{},{},{},{}\".format(os.getcwd() + \"/jars/spark-sql-kafka-0-10_2.12-3.2.1.jar\",  \n",
    "                                       os.getcwd() + \"/jars/kafka-clients-2.1.1.jar\", \n",
    "                                       os.getcwd() + \"/jars/spark-streaming-kafka-0-10-assembly_2.12-3.3.2.jar\", \n",
    "                                       os.getcwd() + \"/jars/commons-pool2-2.8.0.jar\",  \n",
    "                                       os.getcwd() + \"/jars/spark-token-provider-kafka-0-10_2.12-3.1.2.jar\"))"
   ]
  },
  {
   "cell_type": "code",
   "execution_count": 10,
   "id": "d72fd366",
   "metadata": {},
   "outputs": [
    {
     "name": "stdout",
     "output_type": "stream",
     "text": [
      "23/04/23 10:02:15 WARN Utils: Your hostname, mor-Inspiron-3501 resolves to a loopback address: 127.0.1.1; using 192.168.0.217 instead (on interface wlp0s20f3)\n",
      "23/04/23 10:02:15 WARN Utils: Set SPARK_LOCAL_IP if you need to bind to another address\n",
      "23/04/23 10:02:15 WARN NativeCodeLoader: Unable to load native-hadoop library for your platform... using builtin-java classes where applicable\n"
     ]
    },
    {
     "name": "stderr",
     "output_type": "stream",
     "text": [
      "Setting default log level to \"WARN\".\n",
      "To adjust logging level use sc.setLogLevel(newLevel). For SparkR, use setLogLevel(newLevel).\n"
     ]
    },
    {
     "name": "stdout",
     "output_type": "stream",
     "text": [
      "23/04/23 10:02:16 WARN Utils: Service 'SparkUI' could not bind on port 4040. Attempting port 4041.\n",
      "23/04/23 10:02:16 WARN Utils: Service 'SparkUI' could not bind on port 4041. Attempting port 4042.\n",
      "23/04/23 10:02:16 WARN Utils: Service 'SparkUI' could not bind on port 4042. Attempting port 4043.\n",
      "23/04/23 10:02:16 WARN Utils: Service 'SparkUI' could not bind on port 4043. Attempting port 4044.\n",
      "23/04/23 10:02:16 WARN Utils: Service 'SparkUI' could not bind on port 4044. Attempting port 4045.\n",
      "23/04/23 10:02:16 WARN Utils: Service 'SparkUI' could not bind on port 4045. Attempting port 4046.\n",
      "23/04/23 10:02:16 WARN Utils: Service 'SparkUI' could not bind on port 4046. Attempting port 4047.\n"
     ]
    }
   ],
   "source": [
    "# Inicializa sessão Spark\n",
    "\n",
    "spark_session = SparkSession \\\n",
    "        .builder \\\n",
    "        .config(\"spark.jars\", spark_jars) \\\n",
    "        .appName(\"Project_Spotfy\") \\\n",
    "        .getOrCreate()"
   ]
  },
  {
   "cell_type": "code",
   "execution_count": 11,
   "id": "a873ee0d",
   "metadata": {},
   "outputs": [],
   "source": [
    "spark_session.sparkContext.setLogLevel(\"ERROR\")"
   ]
  },
  {
   "cell_type": "code",
   "execution_count": 15,
   "id": "f9e0ae43",
   "metadata": {},
   "outputs": [],
   "source": [
    "# Usamos o Spark Streaming para leitura do streaming de dados do Kafka e salvamos em um dataframe\n",
    "df = spark_session \\\n",
    "        .readStream \\\n",
    "        .format(\"kafka\") \\\n",
    "        .option(\"kafka.bootstrap.servers\", SERVER) \\\n",
    "        .option(\"subscribe\", TOPIC) \\\n",
    "        .option(\"startingOffsets\", \"latest\") \\\n",
    "        .load()"
   ]
  },
  {
   "cell_type": "code",
   "execution_count": 16,
   "id": "933bc32f",
   "metadata": {},
   "outputs": [],
   "source": [
    "# Selecionamos a coluna timestamp como string e salvamos em um novo dataframe\n",
    "df1  = df.selectExpr('CAST(value AS STRING)', 'timestamp')"
   ]
  },
  {
   "cell_type": "code",
   "execution_count": 17,
   "id": "74f2581b",
   "metadata": {},
   "outputs": [],
   "source": [
    "# Definimos o schema com o nome de cada coluna e o tipo de dado\n",
    "def_schema = \"order_id INT, id STRING, name STRING, popularity INT, duration_ms DOUBLE, \" \\\n",
    "             + \"artists STRING, id_artists STRING, release_date STRING, \" \\\n",
    "             + \"danceability DOUBLE,energy DOUBLE, key INT, loudness DOUBLE, \" \\\n",
    "             + \"mode INT,speechiness DOUBLE,\" \\\n",
    "             + \"acousticness DOUBLE, instrumentalness DOUBLE, liveness DOUBLE, \" \\\n",
    "             + \"valence DOUBLE, tempo DOUBLE, time_signature DOUBLE\""
   ]
  },
  {
   "cell_type": "code",
   "execution_count": 19,
   "id": "a45795fc",
   "metadata": {},
   "outputs": [],
   "source": [
    "# Selecionamos o streaming de dados de acordo com o schema e salvamos em um novo dataframe\n",
    "\n",
    "df2 = df1.select(from_csv(col(\"value\"), def_schema).alias(\"song\"), \"timestamp\")"
   ]
  },
  {
   "cell_type": "code",
   "execution_count": 20,
   "id": "b66f6740",
   "metadata": {},
   "outputs": [
    {
     "name": "stdout",
     "output_type": "stream",
     "text": [
      "root\n",
      " |-- order_id: integer (nullable = true)\n",
      " |-- id: string (nullable = true)\n",
      " |-- name: string (nullable = true)\n",
      " |-- popularity: integer (nullable = true)\n",
      " |-- duration_ms: double (nullable = true)\n",
      " |-- artists: string (nullable = true)\n",
      " |-- id_artists: string (nullable = true)\n",
      " |-- release_date: string (nullable = true)\n",
      " |-- danceability: double (nullable = true)\n",
      " |-- energy: double (nullable = true)\n",
      " |-- key: integer (nullable = true)\n",
      " |-- loudness: double (nullable = true)\n",
      " |-- mode: integer (nullable = true)\n",
      " |-- speechiness: double (nullable = true)\n",
      " |-- acousticness: double (nullable = true)\n",
      " |-- instrumentalness: double (nullable = true)\n",
      " |-- liveness: double (nullable = true)\n",
      " |-- valence: double (nullable = true)\n",
      " |-- tempo: double (nullable = true)\n",
      " |-- time_signature: double (nullable = true)\n",
      " |-- timestamp: timestamp (nullable = true)\n",
      "\n"
     ]
    }
   ],
   "source": [
    "# Criamos uma view na memória do Spark e visualizamos o schema\n",
    "df3 = df2.select(\"song.*\", \"timestamp\")  \n",
    "df3.createOrReplaceTempView(\"df3_View\");\n",
    "df3.printSchema()"
   ]
  },
  {
   "cell_type": "code",
   "execution_count": 21,
   "id": "83f19587",
   "metadata": {},
   "outputs": [],
   "source": [
    "# Selecionamos os dados com as músicas do stream\n",
    "musicas_stream = spark_session.sql(\"SELECT * FROM df3_View\")"
   ]
  },
  {
   "cell_type": "code",
   "execution_count": 22,
   "id": "43e81c00",
   "metadata": {},
   "outputs": [
    {
     "data": {
      "text/plain": [
       "False"
      ]
     },
     "execution_count": 22,
     "metadata": {},
     "output_type": "execute_result"
    },
    {
     "name": "stderr",
     "output_type": "stream",
     "text": [
      "                                                                                \r"
     ]
    }
   ],
   "source": [
    "# Criamos o stream de dados no Spark Streaming\n",
    "musicas_stream_spark = musicas_stream \\\n",
    "        .writeStream \\\n",
    "        .trigger(processingTime = '5 seconds') \\\n",
    "        .outputMode(\"append\") \\\n",
    "        .option(\"truncate\", \"false\") \\\n",
    "        .format(\"memory\") \\\n",
    "        .queryName(\"tabela_spark\") \\\n",
    "        .start()\n",
    "\n",
    "musicas_stream_spark.awaitTermination(1)"
   ]
  },
  {
   "cell_type": "code",
   "execution_count": 23,
   "id": "df0478bd",
   "metadata": {},
   "outputs": [
    {
     "name": "stderr",
     "output_type": "stream",
     "text": [
      "                                                                                \r"
     ]
    }
   ],
   "source": [
    "# Selecionamos as músicas da tabela de stream do Spark\n",
    "spark_songs = spark_session.sql(\"SELECT * FROM tabela_spark\")"
   ]
  },
  {
   "cell_type": "code",
   "execution_count": 24,
   "id": "4cec809f",
   "metadata": {},
   "outputs": [
    {
     "name": "stdout",
     "output_type": "stream",
     "text": [
      "+--------+--------------------+--------------------+----------+-----------+------------------+--------------------+------------+------------+------+---+--------+----+-----------+------------+----------------+--------+-------+-------+--------------+--------------------+\n",
      "|order_id|                  id|                name|popularity|duration_ms|           artists|          id_artists|release_date|danceability|energy|key|loudness|mode|speechiness|acousticness|instrumentalness|liveness|valence|  tempo|time_signature|           timestamp|\n",
      "+--------+--------------------+--------------------+----------+-----------+------------------+--------------------+------------+------------+------+---+--------+----+-----------+------------+----------------+--------+-------+-------+--------------+--------------------+\n",
      "|     477|6HAlldXFSCLDJXRUg...|            Changing|        26|   267341.0|              Ruru|   GqsHOipAGtytofWjo|  2018-03-15|        0.69| 0.339|  0| -12.625|   1|      0.205|       0.437|           0.836|  0.0522|  0.575|157.854|           4.0|2023-04-24 08:19:...|\n",
      "|     478|5z0u74IwEWVfWsf6P...|      In The Morning|         0|   212869.0|         JayPrince|TLYSzGyVYkxAgYSCq...|  2018-03-21|       0.791| 0.916|  4|  -4.364|   0|     0.0676|      0.0316|         6.32E-6|  0.0318|  0.537|100.003|           4.0|2023-04-24 08:19:...|\n",
      "|     479|3R7JC1tdrm65S5J2g...|For the Last Time...|        32|   190000.0|   RINISnaggleOwky|joIhhXFeqHQXVDOre...|  2018-03-23|       0.821| 0.387|  7| -10.859|   0|      0.109|       0.296|             0.0|   0.146|  0.479|111.987|           4.0|2023-04-24 08:19:...|\n",
      "|     480|3eutwyiT2pMTeZ08t...|             Classix|         3|   250285.0|PersonaLaAveBaraka|aEUqkdSKchABgQXEw...|  2018-03-13|       0.444| 0.804|  5|  -6.876|   0|      0.154|       0.767|           0.651|   0.269|  0.168|140.078|           4.0|2023-04-24 08:19:...|\n",
      "|     481|5eZBVbruQGQJ8MFLr...|            Van Gogh|         0|   187768.0|           IrieLee|  HtMfwEJMFfeEXxCpnx|  2018-03-15|       0.612| 0.666|  3|  -8.543|   0|      0.348|       0.532|             0.0|    0.13|  0.539| 77.936|           4.0|2023-04-24 08:19:...|\n",
      "+--------+--------------------+--------------------+----------+-----------+------------------+--------------------+------------+------------+------+---+--------+----+-----------+------------+----------------+--------+-------+-------+--------------+--------------------+\n",
      "only showing top 5 rows\n",
      "\n"
     ]
    }
   ],
   "source": [
    "# Agora podemos visualizar o stream em tempo real como tabela do Spark\n",
    "spark_songs.show(5)"
   ]
  },
  {
   "cell_type": "code",
   "execution_count": 25,
   "id": "dfa9f396",
   "metadata": {},
   "outputs": [
    {
     "name": "stdout",
     "output_type": "stream",
     "text": [
      "+--------+--------------------+--------------------+----------+-----------+------------------+\n",
      "|order_id|                  id|                name|popularity|duration_ms|           artists|\n",
      "+--------+--------------------+--------------------+----------+-----------+------------------+\n",
      "|     477|6HAlldXFSCLDJXRUg...|            Changing|        26|   267341.0|              Ruru|\n",
      "|     478|5z0u74IwEWVfWsf6P...|      In The Morning|         0|   212869.0|         JayPrince|\n",
      "|     479|3R7JC1tdrm65S5J2g...|For the Last Time...|        32|   190000.0|   RINISnaggleOwky|\n",
      "|     480|3eutwyiT2pMTeZ08t...|             Classix|         3|   250285.0|PersonaLaAveBaraka|\n",
      "|     481|5eZBVbruQGQJ8MFLr...|            Van Gogh|         0|   187768.0|           IrieLee|\n",
      "+--------+--------------------+--------------------+----------+-----------+------------------+\n",
      "only showing top 5 rows\n",
      "\n"
     ]
    }
   ],
   "source": [
    "# Podemos visualizar apenas algumas colunas, por exemplo\n",
    "spark_songs.select('order_id', 'id', 'name', 'popularity', 'duration_ms', 'artists').show(5)"
   ]
  },
  {
   "cell_type": "code",
   "execution_count": 68,
   "id": "38ee36b3",
   "metadata": {},
   "outputs": [
    {
     "data": {
      "text/plain": [
       "3922"
      ]
     },
     "execution_count": 68,
     "metadata": {},
     "output_type": "execute_result"
    }
   ],
   "source": [
    "# Contagem de músicas extraídas em tempo real\n",
    "spark_songs.count()"
   ]
  },
  {
   "cell_type": "markdown",
   "id": "b93af64e",
   "metadata": {},
   "source": [
    "Neste ponto esperamos um período para mais dados sejam coletados pelo streaming. Lembrando que quanto mais dados melhor o modelo."
   ]
  },
  {
   "cell_type": "markdown",
   "id": "31288a81",
   "metadata": {},
   "source": [
    "## Etapa 2: Extraindo dados do Spotfy (preferências do usuário)"
   ]
  },
  {
   "cell_type": "code",
   "execution_count": 29,
   "id": "a41ec6ee",
   "metadata": {},
   "outputs": [
    {
     "name": "stdout",
     "output_type": "stream",
     "text": [
      "\r\n",
      "\u001b[1m[\u001b[0m\u001b[34;49mnotice\u001b[0m\u001b[1;39;49m]\u001b[0m\u001b[39;49m A new release of pip is available: \u001b[0m\u001b[31;49m23.0.1\u001b[0m\u001b[39;49m -> \u001b[0m\u001b[32;49m23.1.1\u001b[0m\r\n",
      "\u001b[1m[\u001b[0m\u001b[34;49mnotice\u001b[0m\u001b[1;39;49m]\u001b[0m\u001b[39;49m To update, run: \u001b[0m\u001b[32;49mpip install --upgrade pip\u001b[0m\r\n"
     ]
    },
    {
     "name": "stderr",
     "output_type": "stream",
     "text": [
      "                                                                                \r"
     ]
    }
   ],
   "source": [
    "# https://pypi.org/project/spotipy/\n",
    "# !pip install -q spotipy"
   ]
  },
  {
   "cell_type": "code",
   "execution_count": 30,
   "id": "a9d3cfb6",
   "metadata": {},
   "outputs": [],
   "source": [
    "# Imports\n",
    "import os\n",
    "import ujson\n",
    "import spotipy\n",
    "import spotipy.util\n",
    "from pyspark.ml.feature import VectorAssembler\n",
    "from pyspark.ml.feature import StandardScaler\n",
    "from pyspark.ml.clustering import KMeans\n",
    "from pyspark.ml.evaluation import ClusteringEvaluator\n",
    "import numpy as np\n",
    "import pandas as pd\n",
    "import matplotlib.pyplot as plt\n",
    "import seaborn as sns\n",
    "from tqdm import tqdm\n",
    "import warnings\n",
    "warnings.filterwarnings(\"ignore\")"
   ]
  },
  {
   "cell_type": "code",
   "execution_count": 31,
   "id": "df99d63b",
   "metadata": {},
   "outputs": [],
   "source": [
    "# Chaves da API do Spotify\n",
    "os.environ[\"SPOTIPY_CLIENT_ID\"] = 'inserir o clientid aqui'\n",
    "os.environ[\"SPOTIPY_CLIENT_SECRET\"] = 'inserir o client secret aqui'\n",
    "os.environ[\"SPOTIPY_REDIRECT_URI\"] = 'http://localhost:7777/callback'"
   ]
  },
  {
   "cell_type": "code",
   "execution_count": 32,
   "id": "406de8e2",
   "metadata": {},
   "outputs": [],
   "source": [
    "# Escopo de extração das preferências do usuário\n",
    "scope = 'user-library-read'"
   ]
  },
  {
   "cell_type": "code",
   "execution_count": 33,
   "id": "2113080a",
   "metadata": {},
   "outputs": [],
   "source": [
    "# Username no Spotify\n",
    "username = 'marcioo.r@hotmail.com'"
   ]
  },
  {
   "cell_type": "code",
   "execution_count": 34,
   "id": "76e9749e",
   "metadata": {},
   "outputs": [
    {
     "name": "stderr",
     "output_type": "stream",
     "text": [
      "                                                                                \r"
     ]
    }
   ],
   "source": [
    "# Criação do tokhen de acesso\n",
    "\n",
    "token = spotipy.util.prompt_for_user_token(username, scope)"
   ]
  },
  {
   "cell_type": "code",
   "execution_count": 35,
   "id": "eae9728e",
   "metadata": {},
   "outputs": [],
   "source": [
    "# Cria o objeto de autenticação\n",
    "spotipy_obj = spotipy.Spotify(auth=token)"
   ]
  },
  {
   "cell_type": "code",
   "execution_count": 37,
   "id": "42d180bd",
   "metadata": {},
   "outputs": [],
   "source": [
    "# Extrai músicas da lista de favoritos do usuário\n",
    "\n",
    "saved_tracks = spotipy_obj.current_user_saved_tracks(limit= 50)"
   ]
  },
  {
   "cell_type": "code",
   "execution_count": 38,
   "id": "5cb0981f",
   "metadata": {},
   "outputs": [
    {
     "name": "stdout",
     "output_type": "stream",
     "text": [
      "Total de Tracks: 154 \n"
     ]
    }
   ],
   "source": [
    "# Número de músicas extraídas\n",
    "n_tracks = saved_tracks['total']\n",
    "print('Total de Tracks: %d ' % n_tracks)"
   ]
  },
  {
   "cell_type": "code",
   "execution_count": 39,
   "id": "219cca3e",
   "metadata": {},
   "outputs": [],
   "source": [
    "# Função para extrair os atributos da lista de músicas do usuário\n",
    "def select_features(track_response):\n",
    "    return {        \n",
    "        'id': str(track_response['track']['id']),\n",
    "        'name': str(track_response['track']['name']),\n",
    "        'artists': [artist['name'] for artist in track_response['track']['artists']],\n",
    "        'popularity': track_response['track']['popularity']\n",
    "    }"
   ]
  },
  {
   "cell_type": "code",
   "execution_count": 40,
   "id": "9aa88d62",
   "metadata": {},
   "outputs": [],
   "source": [
    "# Aplica a função\n",
    "tracks = [select_features(track) for track in saved_tracks['items']]"
   ]
  },
  {
   "cell_type": "code",
   "execution_count": 41,
   "id": "15ae10b8",
   "metadata": {},
   "outputs": [],
   "source": [
    "# Extrai os atributos das músicas preferidas do usuário\n",
    "while saved_tracks['next']:\n",
    "    saved_tracks = spotipy_obj.next(saved_tracks)\n",
    "    tracks.extend([select_features(track) for track in saved_tracks['items']])"
   ]
  },
  {
   "cell_type": "code",
   "execution_count": 42,
   "id": "fc5a19a2",
   "metadata": {},
   "outputs": [],
   "source": [
    "# Criamos o dataframe do pandas\n",
    "df_tracks = pd.DataFrame(tracks)\n",
    "pd.set_option('display.max_rows', len(tracks))\n",
    "df_tracks['artists'] = df_tracks['artists'].apply(lambda artists: artists[0])"
   ]
  },
  {
   "cell_type": "code",
   "execution_count": 43,
   "id": "85f54f52",
   "metadata": {},
   "outputs": [
    {
     "data": {
      "text/html": [
       "<div>\n",
       "<style scoped>\n",
       "    .dataframe tbody tr th:only-of-type {\n",
       "        vertical-align: middle;\n",
       "    }\n",
       "\n",
       "    .dataframe tbody tr th {\n",
       "        vertical-align: top;\n",
       "    }\n",
       "\n",
       "    .dataframe thead th {\n",
       "        text-align: right;\n",
       "    }\n",
       "</style>\n",
       "<table border=\"1\" class=\"dataframe\">\n",
       "  <thead>\n",
       "    <tr style=\"text-align: right;\">\n",
       "      <th></th>\n",
       "      <th>id</th>\n",
       "      <th>name</th>\n",
       "      <th>artists</th>\n",
       "      <th>popularity</th>\n",
       "    </tr>\n",
       "  </thead>\n",
       "  <tbody>\n",
       "    <tr>\n",
       "      <th>0</th>\n",
       "      <td>5vdp5UmvTsnMEMESIF2Ym7</td>\n",
       "      <td>Another One Bites The Dust - Remastered 2011</td>\n",
       "      <td>Queen</td>\n",
       "      <td>84</td>\n",
       "    </tr>\n",
       "    <tr>\n",
       "      <th>1</th>\n",
       "      <td>0nLiqZ6A27jJri2VCalIUs</td>\n",
       "      <td>Nothing Else Matters</td>\n",
       "      <td>Metallica</td>\n",
       "      <td>82</td>\n",
       "    </tr>\n",
       "    <tr>\n",
       "      <th>2</th>\n",
       "      <td>0qgrrDnUUhyxpxbBznUnzg</td>\n",
       "      <td>18 and Life</td>\n",
       "      <td>Skid Row</td>\n",
       "      <td>71</td>\n",
       "    </tr>\n",
       "    <tr>\n",
       "      <th>3</th>\n",
       "      <td>6rkeaQRCWZxwkjhyqgxjXi</td>\n",
       "      <td>Mouth for War</td>\n",
       "      <td>Pantera</td>\n",
       "      <td>63</td>\n",
       "    </tr>\n",
       "    <tr>\n",
       "      <th>4</th>\n",
       "      <td>4PtZE0h5oyPhCtPjg3NeYQ</td>\n",
       "      <td>No Excuses</td>\n",
       "      <td>Alice In Chains</td>\n",
       "      <td>65</td>\n",
       "    </tr>\n",
       "    <tr>\n",
       "      <th>5</th>\n",
       "      <td>7LRMbd3LEoV5wZJvXT1Lwb</td>\n",
       "      <td>T.N.T.</td>\n",
       "      <td>AC/DC</td>\n",
       "      <td>80</td>\n",
       "    </tr>\n",
       "    <tr>\n",
       "      <th>6</th>\n",
       "      <td>2OErSh4oVVAUll0vHxdr6p</td>\n",
       "      <td>Bigmouth Strikes Again - 2011 Remaster</td>\n",
       "      <td>The Smiths</td>\n",
       "      <td>72</td>\n",
       "    </tr>\n",
       "    <tr>\n",
       "      <th>7</th>\n",
       "      <td>2tAeN2TKlQLOoSPXtARzBV</td>\n",
       "      <td>Eruption - 2015 Remaster</td>\n",
       "      <td>Van Halen</td>\n",
       "      <td>66</td>\n",
       "    </tr>\n",
       "    <tr>\n",
       "      <th>8</th>\n",
       "      <td>0G21yYKMZoHa30cYVi1iA8</td>\n",
       "      <td>Welcome To The Jungle</td>\n",
       "      <td>Guns N' Roses</td>\n",
       "      <td>84</td>\n",
       "    </tr>\n",
       "    <tr>\n",
       "      <th>9</th>\n",
       "      <td>1aECQTfv5SO42lU4fvrdJJ</td>\n",
       "      <td>Surrender</td>\n",
       "      <td>Elvis Presley</td>\n",
       "      <td>54</td>\n",
       "    </tr>\n",
       "  </tbody>\n",
       "</table>\n",
       "</div>"
      ],
      "text/plain": [
       "                       id                                          name  \\\n",
       "0  5vdp5UmvTsnMEMESIF2Ym7  Another One Bites The Dust - Remastered 2011   \n",
       "1  0nLiqZ6A27jJri2VCalIUs                          Nothing Else Matters   \n",
       "2  0qgrrDnUUhyxpxbBznUnzg                                   18 and Life   \n",
       "3  6rkeaQRCWZxwkjhyqgxjXi                                 Mouth for War   \n",
       "4  4PtZE0h5oyPhCtPjg3NeYQ                                    No Excuses   \n",
       "5  7LRMbd3LEoV5wZJvXT1Lwb                                        T.N.T.   \n",
       "6  2OErSh4oVVAUll0vHxdr6p        Bigmouth Strikes Again - 2011 Remaster   \n",
       "7  2tAeN2TKlQLOoSPXtARzBV                      Eruption - 2015 Remaster   \n",
       "8  0G21yYKMZoHa30cYVi1iA8                         Welcome To The Jungle   \n",
       "9  1aECQTfv5SO42lU4fvrdJJ                                     Surrender   \n",
       "\n",
       "           artists  popularity  \n",
       "0            Queen          84  \n",
       "1        Metallica          82  \n",
       "2         Skid Row          71  \n",
       "3          Pantera          63  \n",
       "4  Alice In Chains          65  \n",
       "5            AC/DC          80  \n",
       "6       The Smiths          72  \n",
       "7        Van Halen          66  \n",
       "8    Guns N' Roses          84  \n",
       "9    Elvis Presley          54  "
      ]
     },
     "execution_count": 43,
     "metadata": {},
     "output_type": "execute_result"
    }
   ],
   "source": [
    "df_tracks.head(10)"
   ]
  },
  {
   "cell_type": "code",
   "execution_count": 44,
   "id": "07c6dd30",
   "metadata": {},
   "outputs": [],
   "source": [
    "# Dicionário para os atributos de áudio\n",
    "audio_features = {}"
   ]
  },
  {
   "cell_type": "code",
   "execution_count": 45,
   "id": "7bc828cb",
   "metadata": {},
   "outputs": [],
   "source": [
    "# Extrai os atributos de áudio\n",
    "for idd in df_tracks['id'].tolist():\n",
    "    audio_features[idd] = spotipy_obj.audio_features(idd)[0]"
   ]
  },
  {
   "cell_type": "code",
   "execution_count": 46,
   "id": "bd23557b",
   "metadata": {},
   "outputs": [],
   "source": [
    "# Adicionamos os atributos de áudio ao dataframe\n",
    "df_tracks['acousticness'] = df_tracks['id'].apply(lambda idd: audio_features[idd]['acousticness'])\n",
    "df_tracks['speechiness'] = df_tracks['id'].apply(lambda idd: audio_features[idd]['speechiness'])\n",
    "df_tracks['key'] = df_tracks['id'].apply(lambda idd: str(audio_features[idd]['key']))\n",
    "df_tracks['liveness'] = df_tracks['id'].apply(lambda idd: audio_features[idd]['liveness'])\n",
    "df_tracks['instrumentalness'] = df_tracks['id'].apply(lambda idd: audio_features[idd]['instrumentalness'])\n",
    "df_tracks['energy'] = df_tracks['id'].apply(lambda idd: audio_features[idd]['energy'])\n",
    "df_tracks['tempo'] = df_tracks['id'].apply(lambda idd: audio_features[idd]['tempo'])\n",
    "df_tracks['loudness'] = df_tracks['id'].apply(lambda idd: audio_features[idd]['loudness'])\n",
    "df_tracks['danceability'] = df_tracks['id'].apply(lambda idd: audio_features[idd]['danceability'])\n",
    "df_tracks['valence'] = df_tracks['id'].apply(lambda idd: audio_features[idd]['valence'])"
   ]
  },
  {
   "cell_type": "code",
   "execution_count": 47,
   "id": "d86c8eb7",
   "metadata": {},
   "outputs": [
    {
     "data": {
      "text/html": [
       "<div>\n",
       "<style scoped>\n",
       "    .dataframe tbody tr th:only-of-type {\n",
       "        vertical-align: middle;\n",
       "    }\n",
       "\n",
       "    .dataframe tbody tr th {\n",
       "        vertical-align: top;\n",
       "    }\n",
       "\n",
       "    .dataframe thead th {\n",
       "        text-align: right;\n",
       "    }\n",
       "</style>\n",
       "<table border=\"1\" class=\"dataframe\">\n",
       "  <thead>\n",
       "    <tr style=\"text-align: right;\">\n",
       "      <th></th>\n",
       "      <th>id</th>\n",
       "      <th>name</th>\n",
       "      <th>artists</th>\n",
       "      <th>popularity</th>\n",
       "      <th>acousticness</th>\n",
       "      <th>speechiness</th>\n",
       "      <th>key</th>\n",
       "      <th>liveness</th>\n",
       "      <th>instrumentalness</th>\n",
       "      <th>energy</th>\n",
       "      <th>tempo</th>\n",
       "      <th>loudness</th>\n",
       "      <th>danceability</th>\n",
       "      <th>valence</th>\n",
       "    </tr>\n",
       "  </thead>\n",
       "  <tbody>\n",
       "    <tr>\n",
       "      <th>0</th>\n",
       "      <td>5vdp5UmvTsnMEMESIF2Ym7</td>\n",
       "      <td>Another One Bites The Dust - Remastered 2011</td>\n",
       "      <td>Queen</td>\n",
       "      <td>84</td>\n",
       "      <td>0.112000</td>\n",
       "      <td>0.1610</td>\n",
       "      <td>5</td>\n",
       "      <td>0.163</td>\n",
       "      <td>0.312000</td>\n",
       "      <td>0.528</td>\n",
       "      <td>109.967</td>\n",
       "      <td>-6.472</td>\n",
       "      <td>0.933</td>\n",
       "      <td>0.754</td>\n",
       "    </tr>\n",
       "    <tr>\n",
       "      <th>1</th>\n",
       "      <td>0nLiqZ6A27jJri2VCalIUs</td>\n",
       "      <td>Nothing Else Matters</td>\n",
       "      <td>Metallica</td>\n",
       "      <td>82</td>\n",
       "      <td>0.045800</td>\n",
       "      <td>0.0263</td>\n",
       "      <td>4</td>\n",
       "      <td>0.075</td>\n",
       "      <td>0.000006</td>\n",
       "      <td>0.362</td>\n",
       "      <td>142.352</td>\n",
       "      <td>-11.218</td>\n",
       "      <td>0.553</td>\n",
       "      <td>0.158</td>\n",
       "    </tr>\n",
       "    <tr>\n",
       "      <th>2</th>\n",
       "      <td>0qgrrDnUUhyxpxbBznUnzg</td>\n",
       "      <td>18 and Life</td>\n",
       "      <td>Skid Row</td>\n",
       "      <td>71</td>\n",
       "      <td>0.002300</td>\n",
       "      <td>0.0280</td>\n",
       "      <td>1</td>\n",
       "      <td>0.112</td>\n",
       "      <td>0.000015</td>\n",
       "      <td>0.648</td>\n",
       "      <td>90.435</td>\n",
       "      <td>-11.101</td>\n",
       "      <td>0.466</td>\n",
       "      <td>0.305</td>\n",
       "    </tr>\n",
       "    <tr>\n",
       "      <th>3</th>\n",
       "      <td>6rkeaQRCWZxwkjhyqgxjXi</td>\n",
       "      <td>Mouth for War</td>\n",
       "      <td>Pantera</td>\n",
       "      <td>63</td>\n",
       "      <td>0.000004</td>\n",
       "      <td>0.0722</td>\n",
       "      <td>8</td>\n",
       "      <td>0.051</td>\n",
       "      <td>0.000614</td>\n",
       "      <td>0.954</td>\n",
       "      <td>156.899</td>\n",
       "      <td>-7.006</td>\n",
       "      <td>0.329</td>\n",
       "      <td>0.627</td>\n",
       "    </tr>\n",
       "    <tr>\n",
       "      <th>4</th>\n",
       "      <td>4PtZE0h5oyPhCtPjg3NeYQ</td>\n",
       "      <td>No Excuses</td>\n",
       "      <td>Alice In Chains</td>\n",
       "      <td>65</td>\n",
       "      <td>0.020600</td>\n",
       "      <td>0.0323</td>\n",
       "      <td>3</td>\n",
       "      <td>0.070</td>\n",
       "      <td>0.000620</td>\n",
       "      <td>0.838</td>\n",
       "      <td>117.454</td>\n",
       "      <td>-6.013</td>\n",
       "      <td>0.527</td>\n",
       "      <td>0.721</td>\n",
       "    </tr>\n",
       "  </tbody>\n",
       "</table>\n",
       "</div>"
      ],
      "text/plain": [
       "                       id                                          name  \\\n",
       "0  5vdp5UmvTsnMEMESIF2Ym7  Another One Bites The Dust - Remastered 2011   \n",
       "1  0nLiqZ6A27jJri2VCalIUs                          Nothing Else Matters   \n",
       "2  0qgrrDnUUhyxpxbBznUnzg                                   18 and Life   \n",
       "3  6rkeaQRCWZxwkjhyqgxjXi                                 Mouth for War   \n",
       "4  4PtZE0h5oyPhCtPjg3NeYQ                                    No Excuses   \n",
       "\n",
       "           artists  popularity  acousticness  speechiness key  liveness  \\\n",
       "0            Queen          84      0.112000       0.1610   5     0.163   \n",
       "1        Metallica          82      0.045800       0.0263   4     0.075   \n",
       "2         Skid Row          71      0.002300       0.0280   1     0.112   \n",
       "3          Pantera          63      0.000004       0.0722   8     0.051   \n",
       "4  Alice In Chains          65      0.020600       0.0323   3     0.070   \n",
       "\n",
       "   instrumentalness  energy    tempo  loudness  danceability  valence  \n",
       "0          0.312000   0.528  109.967    -6.472         0.933    0.754  \n",
       "1          0.000006   0.362  142.352   -11.218         0.553    0.158  \n",
       "2          0.000015   0.648   90.435   -11.101         0.466    0.305  \n",
       "3          0.000614   0.954  156.899    -7.006         0.329    0.627  \n",
       "4          0.000620   0.838  117.454    -6.013         0.527    0.721  "
      ]
     },
     "execution_count": 47,
     "metadata": {},
     "output_type": "execute_result"
    }
   ],
   "source": [
    "df_tracks.head()"
   ]
  },
  {
   "cell_type": "code",
   "execution_count": 48,
   "id": "bc5016f0",
   "metadata": {},
   "outputs": [
    {
     "data": {
      "text/html": [
       "<div>\n",
       "<style scoped>\n",
       "    .dataframe tbody tr th:only-of-type {\n",
       "        vertical-align: middle;\n",
       "    }\n",
       "\n",
       "    .dataframe tbody tr th {\n",
       "        vertical-align: top;\n",
       "    }\n",
       "\n",
       "    .dataframe thead th {\n",
       "        text-align: right;\n",
       "    }\n",
       "</style>\n",
       "<table border=\"1\" class=\"dataframe\">\n",
       "  <thead>\n",
       "    <tr style=\"text-align: right;\">\n",
       "      <th></th>\n",
       "      <th>id</th>\n",
       "      <th>name</th>\n",
       "      <th>artists</th>\n",
       "      <th>popularity</th>\n",
       "      <th>acousticness</th>\n",
       "      <th>speechiness</th>\n",
       "      <th>key</th>\n",
       "      <th>liveness</th>\n",
       "      <th>instrumentalness</th>\n",
       "      <th>energy</th>\n",
       "      <th>tempo</th>\n",
       "      <th>loudness</th>\n",
       "      <th>danceability</th>\n",
       "      <th>valence</th>\n",
       "    </tr>\n",
       "  </thead>\n",
       "  <tbody>\n",
       "    <tr>\n",
       "      <th>27</th>\n",
       "      <td>3tXmhimGAseS9JI2de0iF8</td>\n",
       "      <td>L'uomo dell'armonica</td>\n",
       "      <td>Ennio Morricone</td>\n",
       "      <td>36</td>\n",
       "      <td>0.754</td>\n",
       "      <td>0.0388</td>\n",
       "      <td>9</td>\n",
       "      <td>0.0907</td>\n",
       "      <td>0.44</td>\n",
       "      <td>0.362</td>\n",
       "      <td>66.78</td>\n",
       "      <td>-8.879</td>\n",
       "      <td>0.101</td>\n",
       "      <td>0.0387</td>\n",
       "    </tr>\n",
       "  </tbody>\n",
       "</table>\n",
       "</div>"
      ],
      "text/plain": [
       "                        id                  name          artists  popularity  \\\n",
       "27  3tXmhimGAseS9JI2de0iF8  L'uomo dell'armonica  Ennio Morricone          36   \n",
       "\n",
       "    acousticness  speechiness key  liveness  instrumentalness  energy  tempo  \\\n",
       "27         0.754       0.0388   9    0.0907              0.44   0.362  66.78   \n",
       "\n",
       "    loudness  danceability  valence  \n",
       "27    -8.879         0.101   0.0387  "
      ]
     },
     "execution_count": 48,
     "metadata": {},
     "output_type": "execute_result"
    }
   ],
   "source": [
    "# Selecionamos uma música randomicamente\n",
    "musica_randomica = random. randint(0,len(df_tracks)-1)\n",
    "df_musica_randomica = df_tracks.head(musica_randomica)[-1:]\n",
    "df_musica_randomica"
   ]
  },
  {
   "cell_type": "code",
   "execution_count": 49,
   "id": "f689bd43",
   "metadata": {},
   "outputs": [
    {
     "name": "stdout",
     "output_type": "stream",
     "text": [
      "+--------+--------------------+--------------------+----------+-----------+------------------+--------------------+------------+------------+------+---+--------+----+-----------+------------+----------------+--------+-------+-------+--------------+--------------------+\n",
      "|order_id|                  id|                name|popularity|duration_ms|           artists|          id_artists|release_date|danceability|energy|key|loudness|mode|speechiness|acousticness|instrumentalness|liveness|valence|  tempo|time_signature|           timestamp|\n",
      "+--------+--------------------+--------------------+----------+-----------+------------------+--------------------+------------+------------+------+---+--------+----+-----------+------------+----------------+--------+-------+-------+--------------+--------------------+\n",
      "|     477|6HAlldXFSCLDJXRUg...|            Changing|        26|   267341.0|              Ruru|   GqsHOipAGtytofWjo|  2018-03-15|        0.69| 0.339|  0| -12.625|   1|      0.205|       0.437|           0.836|  0.0522|  0.575|157.854|           4.0|2023-04-24 08:19:...|\n",
      "|     478|5z0u74IwEWVfWsf6P...|      In The Morning|         0|   212869.0|         JayPrince|TLYSzGyVYkxAgYSCq...|  2018-03-21|       0.791| 0.916|  4|  -4.364|   0|     0.0676|      0.0316|         6.32E-6|  0.0318|  0.537|100.003|           4.0|2023-04-24 08:19:...|\n",
      "|     479|3R7JC1tdrm65S5J2g...|For the Last Time...|        32|   190000.0|   RINISnaggleOwky|joIhhXFeqHQXVDOre...|  2018-03-23|       0.821| 0.387|  7| -10.859|   0|      0.109|       0.296|             0.0|   0.146|  0.479|111.987|           4.0|2023-04-24 08:19:...|\n",
      "|     480|3eutwyiT2pMTeZ08t...|             Classix|         3|   250285.0|PersonaLaAveBaraka|aEUqkdSKchABgQXEw...|  2018-03-13|       0.444| 0.804|  5|  -6.876|   0|      0.154|       0.767|           0.651|   0.269|  0.168|140.078|           4.0|2023-04-24 08:19:...|\n",
      "|     481|5eZBVbruQGQJ8MFLr...|            Van Gogh|         0|   187768.0|           IrieLee|  HtMfwEJMFfeEXxCpnx|  2018-03-15|       0.612| 0.666|  3|  -8.543|   0|      0.348|       0.532|             0.0|    0.13|  0.539| 77.936|           4.0|2023-04-24 08:19:...|\n",
      "+--------+--------------------+--------------------+----------+-----------+------------------+--------------------+------------+------------+------+---+--------+----+-----------+------------+----------------+--------+-------+-------+--------------+--------------------+\n",
      "only showing top 5 rows\n",
      "\n"
     ]
    }
   ],
   "source": [
    "# Músicas do streaming do Spark\n",
    "spark_songs.show(5)"
   ]
  },
  {
   "cell_type": "code",
   "execution_count": 50,
   "id": "a6510175",
   "metadata": {},
   "outputs": [],
   "source": [
    "# Não precisamos mais dessas colunas\n",
    "spark_songs = spark_songs.drop('order_id', \n",
    "                               'mode', \n",
    "                               'release_date', \n",
    "                               'id_artists',\n",
    "                               'time_signature', \n",
    "                               'duration_ms',\n",
    "                               'timestamp')"
   ]
  },
  {
   "cell_type": "code",
   "execution_count": 54,
   "id": "d418d600",
   "metadata": {},
   "outputs": [],
   "source": [
    "# Cria o dataframe com a música escolhida randomicamente\n",
    "df_sp = spark_session.createDataFrame(df_musica_randomica)\n"
   ]
  },
  {
   "cell_type": "code",
   "execution_count": 55,
   "id": "b85dcf69",
   "metadata": {},
   "outputs": [],
   "source": [
    "# Concatena músicas do streaming do Spark com a música do Spotify\n",
    "df = spark_songs.union(df_sp)"
   ]
  },
  {
   "cell_type": "code",
   "execution_count": 56,
   "id": "f85b0084",
   "metadata": {},
   "outputs": [
    {
     "name": "stdout",
     "output_type": "stream",
     "text": [
      "+--------------------+--------------------+----------+------------------+------------+------+---+--------+-----------+------------+----------------+--------+-------+-------+\n",
      "|                  id|                name|popularity|           artists|danceability|energy|key|loudness|speechiness|acousticness|instrumentalness|liveness|valence|  tempo|\n",
      "+--------------------+--------------------+----------+------------------+------------+------+---+--------+-----------+------------+----------------+--------+-------+-------+\n",
      "|6HAlldXFSCLDJXRUg...|            Changing|        26|              Ruru|        0.69| 0.339|  0| -12.625|      0.205|       0.437|           0.836|  0.0522|  0.575|157.854|\n",
      "|5z0u74IwEWVfWsf6P...|      In The Morning|         0|         JayPrince|       0.791| 0.916|  4|  -4.364|     0.0676|      0.0316|         6.32E-6|  0.0318|  0.537|100.003|\n",
      "|3R7JC1tdrm65S5J2g...|For the Last Time...|        32|   RINISnaggleOwky|       0.821| 0.387|  7| -10.859|      0.109|       0.296|             0.0|   0.146|  0.479|111.987|\n",
      "|3eutwyiT2pMTeZ08t...|             Classix|         3|PersonaLaAveBaraka|       0.444| 0.804|  5|  -6.876|      0.154|       0.767|           0.651|   0.269|  0.168|140.078|\n",
      "|5eZBVbruQGQJ8MFLr...|            Van Gogh|         0|           IrieLee|       0.612| 0.666|  3|  -8.543|      0.348|       0.532|             0.0|    0.13|  0.539| 77.936|\n",
      "+--------------------+--------------------+----------+------------------+------------+------+---+--------+-----------+------------+----------------+--------+-------+-------+\n",
      "only showing top 5 rows\n",
      "\n"
     ]
    }
   ],
   "source": [
    "df.show(5)"
   ]
  },
  {
   "cell_type": "markdown",
   "id": "f68f042a",
   "metadata": {},
   "source": [
    "## Pré-Processamento dos Dados"
   ]
  },
  {
   "cell_type": "code",
   "execution_count": 57,
   "id": "ff1bed5a",
   "metadata": {},
   "outputs": [],
   "source": [
    "# Preparamos o VectorAssembler\n",
    "vetor = VectorAssembler(inputCols = ['danceability',\n",
    "                                     'energy',\n",
    "                                     'loudness',\n",
    "                                     'speechiness',\n",
    "                                     'acousticness',\n",
    "                                     'instrumentalness',\n",
    "                                     'liveness',\n",
    "                                     'valence',\n",
    "                                     'tempo'], \n",
    "                        outputCol = 'song_features')"
   ]
  },
  {
   "cell_type": "code",
   "execution_count": 58,
   "id": "960c012f",
   "metadata": {},
   "outputs": [],
   "source": [
    "# Descartamos valores inválidos\n",
    "assembled = vetor.setHandleInvalid(\"skip\").transform(df)"
   ]
  },
  {
   "cell_type": "code",
   "execution_count": 59,
   "id": "2fe68b43",
   "metadata": {},
   "outputs": [],
   "source": [
    "# Preparamos o padronizador\n",
    "std = StandardScaler(inputCol = 'song_features', outputCol = 'standardized')"
   ]
  },
  {
   "cell_type": "code",
   "execution_count": 60,
   "id": "99fe1807",
   "metadata": {},
   "outputs": [
    {
     "name": "stderr",
     "output_type": "stream",
     "text": [
      "                                                                                \r"
     ]
    }
   ],
   "source": [
    "# Treinamos o padronizador\n",
    "scale = std.fit(assembled)"
   ]
  },
  {
   "cell_type": "code",
   "execution_count": 61,
   "id": "93f00566",
   "metadata": {},
   "outputs": [
    {
     "name": "stdout",
     "output_type": "stream",
     "text": [
      "+--------------------+--------------------+----------+------------------+------------+------+---+--------+-----------+------------+----------------+--------+-------+-------+--------------------+--------------------+\n",
      "|                  id|                name|popularity|           artists|danceability|energy|key|loudness|speechiness|acousticness|instrumentalness|liveness|valence|  tempo|       song_features|        standardized|\n",
      "+--------------------+--------------------+----------+------------------+------------+------+---+--------+-----------+------------+----------------+--------+-------+-------+--------------------+--------------------+\n",
      "|6HAlldXFSCLDJXRUg...|            Changing|        26|              Ruru|        0.69| 0.339|  0| -12.625|      0.205|       0.437|           0.836|  0.0522|  0.575|157.854|[0.69,0.339,-12.6...|[3.95481777348146...|\n",
      "|5z0u74IwEWVfWsf6P...|      In The Morning|         0|         JayPrince|       0.791| 0.916|  4|  -4.364|     0.0676|      0.0316|         6.32E-6|  0.0318|  0.537|100.003|[0.791,0.916,-4.3...|[4.53371138959976...|\n",
      "|3R7JC1tdrm65S5J2g...|For the Last Time...|        32|   RINISnaggleOwky|       0.821| 0.387|  7| -10.859|      0.109|       0.296|             0.0|   0.146|  0.479|111.987|[0.821,0.387,-10....|[4.70565998844678...|\n",
      "|3eutwyiT2pMTeZ08t...|             Classix|         3|PersonaLaAveBaraka|       0.444| 0.804|  5|  -6.876|      0.154|       0.767|           0.651|   0.269|  0.168|140.078|[0.444,0.804,-6.8...|[2.54483926293589...|\n",
      "|5eZBVbruQGQJ8MFLr...|            Van Gogh|         0|           IrieLee|       0.612| 0.666|  3|  -8.543|      0.348|       0.532|             0.0|    0.13|  0.539| 77.936|[0.612,0.666,-8.5...|[3.50775141647920...|\n",
      "+--------------------+--------------------+----------+------------------+------------+------+---+--------+-----------+------------+----------------+--------+-------+-------+--------------------+--------------------+\n",
      "only showing top 5 rows\n",
      "\n"
     ]
    }
   ],
   "source": [
    "# Dataframe com dados padronizados\n",
    "df = scale.transform(assembled)\n",
    "df.show(5)"
   ]
  },
  {
   "cell_type": "markdown",
   "id": "b8ea1fa3",
   "metadata": {},
   "source": [
    "## Machine Learning com Aprendizado Não Supervisionado"
   ]
  },
  {
   "cell_type": "code",
   "execution_count": 62,
   "id": "6db823c3",
   "metadata": {},
   "outputs": [],
   "source": [
    "# Cria o objeto do modelo\n",
    "objeto_KMeans = KMeans(featuresCol = 'standardized', k = 3)"
   ]
  },
  {
   "cell_type": "code",
   "execution_count": 63,
   "id": "572f9dac",
   "metadata": {},
   "outputs": [],
   "source": [
    "# Treina o modelo\n",
    "modelo_KMeans = objeto_KMeans.fit(df)"
   ]
  },
  {
   "cell_type": "code",
   "execution_count": 64,
   "id": "b62864c0",
   "metadata": {},
   "outputs": [],
   "source": [
    "# Previsões do modelo\n",
    "df_output = modelo_KMeans.transform(df)"
   ]
  },
  {
   "cell_type": "markdown",
   "id": "3be4ea52",
   "metadata": {},
   "source": [
    "## Sistema de Recomendação"
   ]
  },
  {
   "cell_type": "code",
   "execution_count": 69,
   "id": "a695889a",
   "metadata": {},
   "outputs": [],
   "source": [
    "# Classe\n",
    "class RecoSystem():\n",
    "    \n",
    "    # Método construtor\n",
    "    def __init__(self, data):\n",
    "        self.data_ = data\n",
    "    \n",
    "    # Método de recomendação\n",
    "    def Recomm(self, nome_musica, amount = 1):\n",
    "        \n",
    "        # Lista para as distâncias\n",
    "        distancias = []\n",
    "        \n",
    "        # Seleciona a música\n",
    "        song = self.data_[(self.data_.name.str.lower() == nome_musica.lower())].head(1).values[0]\n",
    "        res_dt = self.data_[self.data_.name.str.lower() != nome_musica.lower()]\n",
    "        \n",
    "        # Loop para o cálculo das distâncias\n",
    "        for i_song in tqdm(res_dt.values):\n",
    "            \n",
    "            # Inicializa a distância\n",
    "            distancia = 0\n",
    "            \n",
    "            # Loop para calcular a distância\n",
    "            for col in np.arange(len(res_dt.columns)):\n",
    "                if not col in [0,1,2,14]:\n",
    "                    distancia = distancia + np.absolute(float(song[col]) - float(i_song[col]))\n",
    "            \n",
    "            # Adiciona na lista de distâncias\n",
    "            distancias.append(distancia)\n",
    "        \n",
    "        res_dt['distance'] = distancias\n",
    "        res_dt = res_dt.sort_values('distance')\n",
    "        \n",
    "        columns = ['id','name', \n",
    "                   'artists', \n",
    "                   'acousticness', \n",
    "                   'liveness', \n",
    "                   'instrumentalness', \n",
    "                   'energy', \n",
    "                   'danceability', \n",
    "                   'valence']\n",
    "        \n",
    "        return res_dt[columns][:amount]"
   ]
  },
  {
   "cell_type": "code",
   "execution_count": 71,
   "id": "3e3665e9",
   "metadata": {},
   "outputs": [],
   "source": [
    "# Nomes das colunas\n",
    "datalabel = df_output.select('id',\n",
    "                             'name',\n",
    "                             'artists',\n",
    "                             'danceability',\n",
    "                             'energy',\n",
    "                             'key',\n",
    "                             'loudness',\n",
    "                             'speechiness',\n",
    "                             'acousticness',\n",
    "                             'instrumentalness',\n",
    "                             'liveness',\n",
    "                             'valence',\n",
    "                             'tempo',\n",
    "                             'prediction')"
   ]
  },
  {
   "cell_type": "code",
   "execution_count": 72,
   "id": "ffe3d11f",
   "metadata": {},
   "outputs": [],
   "source": [
    "# Dataset final\n",
    "df_final = datalabel.toPandas()\n",
    "df_final.drop(df_final[df_final['artists'] == '0'].index, inplace = True)\n",
    "df_final.drop_duplicates(inplace = True)\n",
    "df_final.drop(df_final[df_final['danceability'] == 0.0000].index, inplace = True)\n",
    "df_final.drop(df_final[df_final['liveness'] == 0.000].index, inplace = True)\n",
    "df_final.drop(df_final[df_final['instrumentalness'] == 0.000000].index, inplace = True)\n",
    "df_final.drop(df_final[df_final['energy'] == 0.0000].index, inplace = True)\n",
    "df_final.drop(df_final[df_final['danceability'] == 0.000].index, inplace = True)\n",
    "df_final.drop(df_final[df_final['valence'] == 0.000].index, inplace = True)"
   ]
  },
  {
   "cell_type": "code",
   "execution_count": 73,
   "id": "6620c287",
   "metadata": {},
   "outputs": [
    {
     "data": {
      "text/plain": [
       "(3387, 14)"
      ]
     },
     "execution_count": 73,
     "metadata": {},
     "output_type": "execute_result"
    }
   ],
   "source": [
    "df_final.shape"
   ]
  },
  {
   "cell_type": "code",
   "execution_count": 74,
   "id": "05847080",
   "metadata": {},
   "outputs": [
    {
     "data": {
      "text/html": [
       "<div>\n",
       "<style scoped>\n",
       "    .dataframe tbody tr th:only-of-type {\n",
       "        vertical-align: middle;\n",
       "    }\n",
       "\n",
       "    .dataframe tbody tr th {\n",
       "        vertical-align: top;\n",
       "    }\n",
       "\n",
       "    .dataframe thead th {\n",
       "        text-align: right;\n",
       "    }\n",
       "</style>\n",
       "<table border=\"1\" class=\"dataframe\">\n",
       "  <thead>\n",
       "    <tr style=\"text-align: right;\">\n",
       "      <th></th>\n",
       "      <th>id</th>\n",
       "      <th>name</th>\n",
       "      <th>artists</th>\n",
       "      <th>danceability</th>\n",
       "      <th>energy</th>\n",
       "      <th>key</th>\n",
       "      <th>loudness</th>\n",
       "      <th>speechiness</th>\n",
       "      <th>acousticness</th>\n",
       "      <th>instrumentalness</th>\n",
       "      <th>liveness</th>\n",
       "      <th>valence</th>\n",
       "      <th>tempo</th>\n",
       "      <th>prediction</th>\n",
       "    </tr>\n",
       "  </thead>\n",
       "  <tbody>\n",
       "    <tr>\n",
       "      <th>856</th>\n",
       "      <td>1jOdvyyjgPZNj1Rdv140zl</td>\n",
       "      <td>Like the First Time</td>\n",
       "      <td>ErinRae</td>\n",
       "      <td>0.532</td>\n",
       "      <td>0.497</td>\n",
       "      <td>2</td>\n",
       "      <td>-9.189</td>\n",
       "      <td>0.0244</td>\n",
       "      <td>0.4730</td>\n",
       "      <td>0.04740</td>\n",
       "      <td>0.102</td>\n",
       "      <td>0.3400</td>\n",
       "      <td>76.478</td>\n",
       "      <td>0</td>\n",
       "    </tr>\n",
       "    <tr>\n",
       "      <th>2236</th>\n",
       "      <td>3DVNhZJWQL65Zri5oDEBwF</td>\n",
       "      <td>Bliss</td>\n",
       "      <td>Biyo</td>\n",
       "      <td>0.595</td>\n",
       "      <td>0.456</td>\n",
       "      <td>6</td>\n",
       "      <td>-9.660</td>\n",
       "      <td>0.0561</td>\n",
       "      <td>0.1770</td>\n",
       "      <td>0.00176</td>\n",
       "      <td>0.148</td>\n",
       "      <td>0.5640</td>\n",
       "      <td>79.938</td>\n",
       "      <td>1</td>\n",
       "    </tr>\n",
       "    <tr>\n",
       "      <th>2649</th>\n",
       "      <td>6h2gMMiPIiPLWe4oTQr6Zr</td>\n",
       "      <td>Devon Loch</td>\n",
       "      <td>FutureHaunts</td>\n",
       "      <td>0.363</td>\n",
       "      <td>0.913</td>\n",
       "      <td>7</td>\n",
       "      <td>-3.703</td>\n",
       "      <td>0.0476</td>\n",
       "      <td>0.0169</td>\n",
       "      <td>0.55900</td>\n",
       "      <td>0.124</td>\n",
       "      <td>0.4330</td>\n",
       "      <td>144.317</td>\n",
       "      <td>1</td>\n",
       "    </tr>\n",
       "    <tr>\n",
       "      <th>1154</th>\n",
       "      <td>4fbVsIdbvl8QnzRaF67DhM</td>\n",
       "      <td>Lead</td>\n",
       "      <td>AndreaBelfi</td>\n",
       "      <td>0.471</td>\n",
       "      <td>0.490</td>\n",
       "      <td>1</td>\n",
       "      <td>-16.178</td>\n",
       "      <td>0.0345</td>\n",
       "      <td>0.2260</td>\n",
       "      <td>0.91200</td>\n",
       "      <td>0.117</td>\n",
       "      <td>0.0327</td>\n",
       "      <td>91.977</td>\n",
       "      <td>0</td>\n",
       "    </tr>\n",
       "    <tr>\n",
       "      <th>3077</th>\n",
       "      <td>2axmlxzcjgAdspldlkNKmu</td>\n",
       "      <td>Dirty Blue</td>\n",
       "      <td>Swings</td>\n",
       "      <td>0.340</td>\n",
       "      <td>0.460</td>\n",
       "      <td>7</td>\n",
       "      <td>-8.260</td>\n",
       "      <td>0.0324</td>\n",
       "      <td>0.0925</td>\n",
       "      <td>0.17700</td>\n",
       "      <td>0.243</td>\n",
       "      <td>0.0695</td>\n",
       "      <td>121.392</td>\n",
       "      <td>1</td>\n",
       "    </tr>\n",
       "  </tbody>\n",
       "</table>\n",
       "</div>"
      ],
      "text/plain": [
       "                          id                 name       artists  danceability  \\\n",
       "856   1jOdvyyjgPZNj1Rdv140zl  Like the First Time       ErinRae         0.532   \n",
       "2236  3DVNhZJWQL65Zri5oDEBwF                Bliss          Biyo         0.595   \n",
       "2649  6h2gMMiPIiPLWe4oTQr6Zr           Devon Loch  FutureHaunts         0.363   \n",
       "1154  4fbVsIdbvl8QnzRaF67DhM                 Lead   AndreaBelfi         0.471   \n",
       "3077  2axmlxzcjgAdspldlkNKmu           Dirty Blue        Swings         0.340   \n",
       "\n",
       "      energy key  loudness  speechiness  acousticness  instrumentalness  \\\n",
       "856    0.497   2    -9.189       0.0244        0.4730           0.04740   \n",
       "2236   0.456   6    -9.660       0.0561        0.1770           0.00176   \n",
       "2649   0.913   7    -3.703       0.0476        0.0169           0.55900   \n",
       "1154   0.490   1   -16.178       0.0345        0.2260           0.91200   \n",
       "3077   0.460   7    -8.260       0.0324        0.0925           0.17700   \n",
       "\n",
       "      liveness  valence    tempo  prediction  \n",
       "856      0.102   0.3400   76.478           0  \n",
       "2236     0.148   0.5640   79.938           1  \n",
       "2649     0.124   0.4330  144.317           1  \n",
       "1154     0.117   0.0327   91.977           0  \n",
       "3077     0.243   0.0695  121.392           1  "
      ]
     },
     "execution_count": 74,
     "metadata": {},
     "output_type": "execute_result"
    }
   ],
   "source": [
    "df_final.sample(5)"
   ]
  },
  {
   "cell_type": "code",
   "execution_count": 75,
   "id": "1dbd6362",
   "metadata": {},
   "outputs": [],
   "source": [
    "# Cria o objeto\n",
    "reco_obj = RecoSystem(df_final)"
   ]
  },
  {
   "cell_type": "code",
   "execution_count": 76,
   "id": "612f9db8",
   "metadata": {},
   "outputs": [
    {
     "name": "stdout",
     "output_type": "stream",
     "text": [
      "L'uomo dell'armonica\n"
     ]
    }
   ],
   "source": [
    "musica = df_musica_randomica['name'].tolist()[0]\n",
    "print(musica)"
   ]
  },
  {
   "cell_type": "code",
   "execution_count": 77,
   "id": "4a883ff1",
   "metadata": {},
   "outputs": [
    {
     "name": "stderr",
     "output_type": "stream",
     "text": [
      "100%|████████████████████████████████████| 3386/3386 [00:00<00:00, 53327.90it/s]\n"
     ]
    }
   ],
   "source": [
    "# Executa a recomendação\n",
    "recomendacao = reco_obj.Recomm(musica)"
   ]
  },
  {
   "cell_type": "code",
   "execution_count": 78,
   "id": "b72cf4a0",
   "metadata": {},
   "outputs": [],
   "source": [
    "# Extrai a música randômica da lista de favoritos do Spotify\n",
    "y = df_musica_randomica[['id','name', \n",
    "                         'artists',  \n",
    "                         'acousticness', \n",
    "                         'liveness', \n",
    "                         'instrumentalness', \n",
    "                         'energy', \n",
    "                         'danceability', \n",
    "                         'valence']]"
   ]
  },
  {
   "cell_type": "code",
   "execution_count": 79,
   "id": "41e09f89",
   "metadata": {},
   "outputs": [],
   "source": [
    "# Concatena a recomendação com a música randômica da lista de favoritos do Spotify\n",
    "recomendacao = pd.concat([recomendacao, y])"
   ]
  },
  {
   "cell_type": "code",
   "execution_count": 81,
   "id": "bb62fc15",
   "metadata": {},
   "outputs": [],
   "source": [
    "# Salva a recomendação em disco\n",
    "recomendacao.to_csv('recomendacoes/recomendacao.csv')"
   ]
  },
  {
   "cell_type": "code",
   "execution_count": 83,
   "id": "3d5a2d32",
   "metadata": {},
   "outputs": [],
   "source": [
    "# Carrega o arquivo do disco\n",
    "df_reco = (spark_session.read.format(\"csv\").options(header = \"true\").load(\"recomendacoes/recomendacao.csv\"))"
   ]
  },
  {
   "cell_type": "code",
   "execution_count": 84,
   "id": "c6489ea4",
   "metadata": {},
   "outputs": [
    {
     "name": "stdout",
     "output_type": "stream",
     "text": [
      "+---+--------------------+--------------------+---------------+------------+--------+----------------+------+------------+-------+\n",
      "|_c0|                  id|                name|        artists|acousticness|liveness|instrumentalness|energy|danceability|valence|\n",
      "+---+--------------------+--------------------+---------------+------------+--------+----------------+------+------------+-------+\n",
      "|459|7khpPruHJK39VTBUQ...|            Stranger|     MildOrange|       0.412|   0.109|           0.113| 0.491|       0.334|  0.452|\n",
      "| 27|3tXmhimGAseS9JI2d...|L'uomo dell'armonica|Ennio Morricone|       0.754|  0.0907|            0.44| 0.362|       0.101| 0.0387|\n",
      "+---+--------------------+--------------------+---------------+------------+--------+----------------+------+------------+-------+\n",
      "\n"
     ]
    }
   ],
   "source": [
    "# Recomendação de música\n",
    "df_reco.show()"
   ]
  },
  {
   "cell_type": "markdown",
   "id": "cd3026af",
   "metadata": {},
   "source": [
    "### Fim do Projeto"
   ]
  }
 ],
 "metadata": {
  "kernelspec": {
   "display_name": "Python 3 (ipykernel)",
   "language": "python",
   "name": "python3"
  },
  "language_info": {
   "codemirror_mode": {
    "name": "ipython",
    "version": 3
   },
   "file_extension": ".py",
   "mimetype": "text/x-python",
   "name": "python",
   "nbconvert_exporter": "python",
   "pygments_lexer": "ipython3",
   "version": "3.9.12"
  }
 },
 "nbformat": 4,
 "nbformat_minor": 5
}
